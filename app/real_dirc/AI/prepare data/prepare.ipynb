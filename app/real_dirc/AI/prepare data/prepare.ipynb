{
 "cells": [
  {
   "cell_type": "code",
   "execution_count": 14,
   "id": "09c869b8",
   "metadata": {},
   "outputs": [],
   "source": [
    "import pandas as pd\n",
    "import aranorm\n"
   ]
  },
  {
   "cell_type": "code",
   "execution_count": 22,
   "id": "0ba06c82",
   "metadata": {},
   "outputs": [
    {
     "data": {
      "text/plain": [
       "0     السَّلامُ عَلى نُورِ الله الأنْوَرِ وَضِيائِهِ...\n",
       "1     بتوجيهات فضيلة الإمام الأكبر، أ.د/ أحمد الطيب،...\n",
       "2     قراءة  في كتاب \"مقالات في الأخلاق لمجموعة من ا...\n",
       "3     زغاريد طالبات جامعة الأزهر فرحا باتفاق وقف الح...\n",
       "4     من التهم التي تقدمنا بها للنيابة والقضاء بالصو...\n",
       "5     مصر تشهد تراجع غير مسبوق في المواليد.. إيه الس...\n",
       "6     الأزهر مؤسسة إرها1بية لا ريب في ذلك!! https://...\n",
       "7     🛑 الدكتور أحمد زارع، المتحدث باسم جامعة الأزهر...\n",
       "8     #بث_مباشر | ندوة بعنوان: \"دور أروقة الأزهر في ...\n",
       "9     #بث_مباشر | ندوة  \"القرآنيون .. لماذا أنكروا ا...\n",
       "10    وفديناكِ أيتُها البلاد بالذبحِ الأكبر \\nبالفجر...\n",
       "11    #الأزهر_الشريف:\\n\\n• #غزة ستظل فلسطينية عربية ...\n",
       "12    الأزهر الشريف يعلن تأهيل كل مستشفياته ووضعها ع...\n",
       "13    عميد كلية الطب بجامعة الأزهر فرع غزة: تم تخريج...\n",
       "14    المشروع الذي يقوم الأزهر بدراسته حاليا...\\nيحت...\n",
       "15    #بث_مباشر | قراءة في كتاب \"الإمام البخاري وصحي...\n",
       "16    لو سمحت\\nارجوك\\nابوس ايدك\\nPlease \\nS'il vous ...\n",
       "17    وكيل الأزهر الأسبق: شعب مصر كله جيش.. ومستعد ل...\n",
       "18    #ليلة_الجمعة \\n\\nاللهُم صل وسلم على صاحب الوجه...\n",
       "19    جولة بالمتحف المصرى الكبير 𓂀\\nلطلاب الازهر ☪️\\...\n",
       "Name: text, dtype: object"
      ]
     },
     "execution_count": 22,
     "metadata": {},
     "output_type": "execute_result"
    }
   ],
   "source": [
    "origina_text_column = pd.read_json('azhar.json', encoding='utf-8', lines=True)['text']\n",
    "origina_text_column"
   ]
  },
  {
   "cell_type": "code",
   "execution_count": 13,
   "id": "e5eb1dec",
   "metadata": {},
   "outputs": [
    {
     "data": {
      "text/plain": [
       "20"
      ]
     },
     "execution_count": 13,
     "metadata": {},
     "output_type": "execute_result"
    }
   ],
   "source": [
    "len(origina_text_column)"
   ]
  },
  {
   "cell_type": "code",
   "execution_count": 17,
   "id": "3a448b7d",
   "metadata": {},
   "outputs": [],
   "source": [
    "normalized_text=[]\n",
    "for text in origina_text_column :\n",
    "    normalized_text.append(aranorm.normalize_arabic_text(text))\n",
    "\n"
   ]
  },
  {
   "cell_type": "code",
   "execution_count": 18,
   "id": "deb18353",
   "metadata": {},
   "outputs": [
    {
     "data": {
      "text/plain": [
       "['السلام علي نور الله الانور وضياءه الازهر ورحمه الله وبركاته',\n",
       " 'بتوجيهات فضيله الامام الاكبر ا د احمد الطيب شيخ الازهر الشريف اكبر قافله مساعدات انسانيه من بيت الزكاه والصدقات تصل الي اشقاءنا في غزه',\n",
       " 'قراءه في كتاب مقالات في الاخلاق لمجموعه من العلماء من داخل جناح الازهر الشريف قاعه بمعرض القاهره الدولي للكتاب',\n",
       " 'زغاريد طالبات جامعه الازهر فرحا باتفاق وقف الحرب علي غزه',\n",
       " 'من التهم التي تقدمنا بها للنيابه والقضاء بالصوت والصوره علي المدعو طارق يوسف سب الرءيس المصري عبد الفتاح السيسي بالاسم سب القضاء المصري باكمله اتهام القياده بتعامل مع المسحيين بطريقه قذره يتبرا من النظام المصري ويتهمه بالكفر سب شيخ الازهر والازهر والافتاء سب الصحابه رضي الله عنهم والسخريه منهم التهكم علي النبي صلي الله عليه وسلم سب السعوديه الشقيقه وجهات الافتاء هناك يطالب ببناء مساجد للشيعه بمصر نشر التشيع في مصر والكثير والكثير',\n",
       " 'مصر تشهد تراجع غير مسبوق في المواليد ايه السر وما دور شيخ الازهر والبابا تواضروس شاهد المقطع عبر يوتيوب محمد ناصر السيسي المصريين المصريين علي قلب رجل واحد الزياده السكانيه',\n",
       " 'الازهر مءسسه ارها بيه لا ريب في ذلك',\n",
       " 'الدكتور احمد زارع المتحدث باسم جامعه الازهر مقترح تعريب تدريس علوم الطب ياتي في اطار الاعتزاز باللغه العربيه والعديد من الدول المتقدمه تدرس جميع مراحل التعليم بما فيها الجامعي بلغتها القوميه',\n",
       " 'بث مباشر ندوه بعنوان دور اروقه الازهر في الحفاظ علي الامن الفكري والمجتمعي من داخل جناح الازهر الشريف قاعه ب معرض القاهره الدولي للكتاب',\n",
       " 'بث مباشر ندوه القرانيون لماذا انكروا السنه من داخل جناح الازهر الشريف قاعه ب معرض القاهره الدولي للكتاب',\n",
       " 'وفديناك ايتها البلاد بالذبح الاكبر بالفجر والشفع والوتر ونجمها الازهر',\n",
       " 'الازهر الشريف غزه ستظل فلسطينيه عربيه الي ان يرث الله الارض ومن عليها نعرب عن رفضنا القاطع لكل مخططات ومحاولات تهجير الفلسطينيين من اراضيهم في محاوله باءسه وظالمه لتمكين الكيان المحتل من وطنهم ومقدراتهم',\n",
       " 'الازهر الشريف يعلن تاهيل كل مستشفياته ووضعها علي اهبه الاستعداد لاستقبال الجرحي من غزه حرب غزه',\n",
       " 'عميد كليه الطب بجامعه الازهر فرع غزه تم تخريج اكثر من طالبا من قلب الخيام في قطاع غزه هذا العام الجزيره مباشر',\n",
       " 'المشروع الذي يقوم الازهر بدراسته حاليا يحتاج للتريث لا للتعجل فبعيدا عن العاطفه تعريب تدريس علم من العلوم يشترط فيه تكاتف الجهود بين الجامعات والدول العربيه علي اعلي مستوي واما ان تقوم جامعه وحدها اي كانت هذه الجامعه بتعريب علم محدد فهو في الحقيقه عزل لخريجي وباحثي هذه الجامعه عن العالم ووضعهم بعيدا عن استدراك جديد العلم او المشاركه فيه ببساطه هو حكم بالاعدام عليهم نحن مع التعريب الذي تتبناه دول ومءسسات عالميه تعليميه بتكاتف واتحاد لا بجهود احاديه اللهم ابرم لهذه الامه امرا رشدا اللهم امين امين',\n",
       " 'بث مباشر قراءه في كتاب الامام البخاري وصحيحه من داخل جناح الازهر الشريف قاعه ب معرض القاهره الدولي للكتاب',\n",
       " 'لو سمحت ارجوك ابوس ايدك بكل لغات العالم بترجاك متحطش ح قبل اي فعل تاني ونبي خلي الازهر يعرب العربي بتاعك انت الاول قبل العلوم',\n",
       " 'وكيل الازهر الاسبق شعب مصر كله جيش ومستعد للتضحيه والدفاع عن وطنه مهما كلفه ذلك المصدر خطبه الجمعه اليوم بالجامع الازهر ل الدكتور عباس شومان',\n",
       " 'ليله الجمعه اللهم صل وسلم علي صاحب الوجه الانور والجبين الازهر والشفيع المشفع يوم المحشر صلي الله عليه وسلم',\n",
       " 'جوله بالمتحف المصري الكبير لطلاب الازهر مع المرشد السياحي كيرلس و هي دي مصر يا ساده احنا مصريين بال ينات مهما اختلف الزمان واختلفت الاديان هنفضلوا مصريين و بس']"
      ]
     },
     "execution_count": 18,
     "metadata": {},
     "output_type": "execute_result"
    }
   ],
   "source": [
    "normalized_text"
   ]
  },
  {
   "cell_type": "code",
   "execution_count": null,
   "id": "222febca",
   "metadata": {},
   "outputs": [
    {
     "ename": "FileNotFoundError",
     "evalue": "[Errno 2] No such file or directory: '/kaggle/input/nlp-arabic-tweets/train.csv'",
     "output_type": "error",
     "traceback": [
      "\u001b[1;31m---------------------------------------------------------------------------\u001b[0m",
      "\u001b[1;31mFileNotFoundError\u001b[0m                         Traceback (most recent call last)",
      "Cell \u001b[1;32mIn[19], line 7\u001b[0m\n\u001b[0;32m      5\u001b[0m     \u001b[38;5;28;01mfor\u001b[39;00m filename \u001b[38;5;129;01min\u001b[39;00m filenames:\n\u001b[0;32m      6\u001b[0m         \u001b[38;5;28mprint\u001b[39m(os\u001b[38;5;241m.\u001b[39mpath\u001b[38;5;241m.\u001b[39mjoin(dirname, filename))\n\u001b[1;32m----> 7\u001b[0m Data_set \u001b[38;5;241m=\u001b[39m \u001b[43mpd\u001b[49m\u001b[38;5;241;43m.\u001b[39;49m\u001b[43mread_csv\u001b[49m\u001b[43m(\u001b[49m\u001b[38;5;124;43m\"\u001b[39;49m\u001b[38;5;124;43m/kaggle/input/nlp-arabic-tweets/train.csv\u001b[39;49m\u001b[38;5;124;43m\"\u001b[39;49m\u001b[43m)\u001b[49m\n\u001b[0;32m      8\u001b[0m Data_set\n",
      "File \u001b[1;32mc:\\Users\\Esayed\\AppData\\Local\\Programs\\Python\\Python310\\lib\\site-packages\\pandas\\io\\parsers\\readers.py:1026\u001b[0m, in \u001b[0;36mread_csv\u001b[1;34m(filepath_or_buffer, sep, delimiter, header, names, index_col, usecols, dtype, engine, converters, true_values, false_values, skipinitialspace, skiprows, skipfooter, nrows, na_values, keep_default_na, na_filter, verbose, skip_blank_lines, parse_dates, infer_datetime_format, keep_date_col, date_parser, date_format, dayfirst, cache_dates, iterator, chunksize, compression, thousands, decimal, lineterminator, quotechar, quoting, doublequote, escapechar, comment, encoding, encoding_errors, dialect, on_bad_lines, delim_whitespace, low_memory, memory_map, float_precision, storage_options, dtype_backend)\u001b[0m\n\u001b[0;32m   1013\u001b[0m kwds_defaults \u001b[38;5;241m=\u001b[39m _refine_defaults_read(\n\u001b[0;32m   1014\u001b[0m     dialect,\n\u001b[0;32m   1015\u001b[0m     delimiter,\n\u001b[1;32m   (...)\u001b[0m\n\u001b[0;32m   1022\u001b[0m     dtype_backend\u001b[38;5;241m=\u001b[39mdtype_backend,\n\u001b[0;32m   1023\u001b[0m )\n\u001b[0;32m   1024\u001b[0m kwds\u001b[38;5;241m.\u001b[39mupdate(kwds_defaults)\n\u001b[1;32m-> 1026\u001b[0m \u001b[38;5;28;01mreturn\u001b[39;00m \u001b[43m_read\u001b[49m\u001b[43m(\u001b[49m\u001b[43mfilepath_or_buffer\u001b[49m\u001b[43m,\u001b[49m\u001b[43m \u001b[49m\u001b[43mkwds\u001b[49m\u001b[43m)\u001b[49m\n",
      "File \u001b[1;32mc:\\Users\\Esayed\\AppData\\Local\\Programs\\Python\\Python310\\lib\\site-packages\\pandas\\io\\parsers\\readers.py:620\u001b[0m, in \u001b[0;36m_read\u001b[1;34m(filepath_or_buffer, kwds)\u001b[0m\n\u001b[0;32m    617\u001b[0m _validate_names(kwds\u001b[38;5;241m.\u001b[39mget(\u001b[38;5;124m\"\u001b[39m\u001b[38;5;124mnames\u001b[39m\u001b[38;5;124m\"\u001b[39m, \u001b[38;5;28;01mNone\u001b[39;00m))\n\u001b[0;32m    619\u001b[0m \u001b[38;5;66;03m# Create the parser.\u001b[39;00m\n\u001b[1;32m--> 620\u001b[0m parser \u001b[38;5;241m=\u001b[39m TextFileReader(filepath_or_buffer, \u001b[38;5;241m*\u001b[39m\u001b[38;5;241m*\u001b[39mkwds)\n\u001b[0;32m    622\u001b[0m \u001b[38;5;28;01mif\u001b[39;00m chunksize \u001b[38;5;129;01mor\u001b[39;00m iterator:\n\u001b[0;32m    623\u001b[0m     \u001b[38;5;28;01mreturn\u001b[39;00m parser\n",
      "File \u001b[1;32mc:\\Users\\Esayed\\AppData\\Local\\Programs\\Python\\Python310\\lib\\site-packages\\pandas\\io\\parsers\\readers.py:1620\u001b[0m, in \u001b[0;36mTextFileReader.__init__\u001b[1;34m(self, f, engine, **kwds)\u001b[0m\n\u001b[0;32m   1617\u001b[0m     \u001b[38;5;28mself\u001b[39m\u001b[38;5;241m.\u001b[39moptions[\u001b[38;5;124m\"\u001b[39m\u001b[38;5;124mhas_index_names\u001b[39m\u001b[38;5;124m\"\u001b[39m] \u001b[38;5;241m=\u001b[39m kwds[\u001b[38;5;124m\"\u001b[39m\u001b[38;5;124mhas_index_names\u001b[39m\u001b[38;5;124m\"\u001b[39m]\n\u001b[0;32m   1619\u001b[0m \u001b[38;5;28mself\u001b[39m\u001b[38;5;241m.\u001b[39mhandles: IOHandles \u001b[38;5;241m|\u001b[39m \u001b[38;5;28;01mNone\u001b[39;00m \u001b[38;5;241m=\u001b[39m \u001b[38;5;28;01mNone\u001b[39;00m\n\u001b[1;32m-> 1620\u001b[0m \u001b[38;5;28mself\u001b[39m\u001b[38;5;241m.\u001b[39m_engine \u001b[38;5;241m=\u001b[39m \u001b[38;5;28;43mself\u001b[39;49m\u001b[38;5;241;43m.\u001b[39;49m\u001b[43m_make_engine\u001b[49m\u001b[43m(\u001b[49m\u001b[43mf\u001b[49m\u001b[43m,\u001b[49m\u001b[43m \u001b[49m\u001b[38;5;28;43mself\u001b[39;49m\u001b[38;5;241;43m.\u001b[39;49m\u001b[43mengine\u001b[49m\u001b[43m)\u001b[49m\n",
      "File \u001b[1;32mc:\\Users\\Esayed\\AppData\\Local\\Programs\\Python\\Python310\\lib\\site-packages\\pandas\\io\\parsers\\readers.py:1880\u001b[0m, in \u001b[0;36mTextFileReader._make_engine\u001b[1;34m(self, f, engine)\u001b[0m\n\u001b[0;32m   1878\u001b[0m     \u001b[38;5;28;01mif\u001b[39;00m \u001b[38;5;124m\"\u001b[39m\u001b[38;5;124mb\u001b[39m\u001b[38;5;124m\"\u001b[39m \u001b[38;5;129;01mnot\u001b[39;00m \u001b[38;5;129;01min\u001b[39;00m mode:\n\u001b[0;32m   1879\u001b[0m         mode \u001b[38;5;241m+\u001b[39m\u001b[38;5;241m=\u001b[39m \u001b[38;5;124m\"\u001b[39m\u001b[38;5;124mb\u001b[39m\u001b[38;5;124m\"\u001b[39m\n\u001b[1;32m-> 1880\u001b[0m \u001b[38;5;28mself\u001b[39m\u001b[38;5;241m.\u001b[39mhandles \u001b[38;5;241m=\u001b[39m \u001b[43mget_handle\u001b[49m\u001b[43m(\u001b[49m\n\u001b[0;32m   1881\u001b[0m \u001b[43m    \u001b[49m\u001b[43mf\u001b[49m\u001b[43m,\u001b[49m\n\u001b[0;32m   1882\u001b[0m \u001b[43m    \u001b[49m\u001b[43mmode\u001b[49m\u001b[43m,\u001b[49m\n\u001b[0;32m   1883\u001b[0m \u001b[43m    \u001b[49m\u001b[43mencoding\u001b[49m\u001b[38;5;241;43m=\u001b[39;49m\u001b[38;5;28;43mself\u001b[39;49m\u001b[38;5;241;43m.\u001b[39;49m\u001b[43moptions\u001b[49m\u001b[38;5;241;43m.\u001b[39;49m\u001b[43mget\u001b[49m\u001b[43m(\u001b[49m\u001b[38;5;124;43m\"\u001b[39;49m\u001b[38;5;124;43mencoding\u001b[39;49m\u001b[38;5;124;43m\"\u001b[39;49m\u001b[43m,\u001b[49m\u001b[43m \u001b[49m\u001b[38;5;28;43;01mNone\u001b[39;49;00m\u001b[43m)\u001b[49m\u001b[43m,\u001b[49m\n\u001b[0;32m   1884\u001b[0m \u001b[43m    \u001b[49m\u001b[43mcompression\u001b[49m\u001b[38;5;241;43m=\u001b[39;49m\u001b[38;5;28;43mself\u001b[39;49m\u001b[38;5;241;43m.\u001b[39;49m\u001b[43moptions\u001b[49m\u001b[38;5;241;43m.\u001b[39;49m\u001b[43mget\u001b[49m\u001b[43m(\u001b[49m\u001b[38;5;124;43m\"\u001b[39;49m\u001b[38;5;124;43mcompression\u001b[39;49m\u001b[38;5;124;43m\"\u001b[39;49m\u001b[43m,\u001b[49m\u001b[43m \u001b[49m\u001b[38;5;28;43;01mNone\u001b[39;49;00m\u001b[43m)\u001b[49m\u001b[43m,\u001b[49m\n\u001b[0;32m   1885\u001b[0m \u001b[43m    \u001b[49m\u001b[43mmemory_map\u001b[49m\u001b[38;5;241;43m=\u001b[39;49m\u001b[38;5;28;43mself\u001b[39;49m\u001b[38;5;241;43m.\u001b[39;49m\u001b[43moptions\u001b[49m\u001b[38;5;241;43m.\u001b[39;49m\u001b[43mget\u001b[49m\u001b[43m(\u001b[49m\u001b[38;5;124;43m\"\u001b[39;49m\u001b[38;5;124;43mmemory_map\u001b[39;49m\u001b[38;5;124;43m\"\u001b[39;49m\u001b[43m,\u001b[49m\u001b[43m \u001b[49m\u001b[38;5;28;43;01mFalse\u001b[39;49;00m\u001b[43m)\u001b[49m\u001b[43m,\u001b[49m\n\u001b[0;32m   1886\u001b[0m \u001b[43m    \u001b[49m\u001b[43mis_text\u001b[49m\u001b[38;5;241;43m=\u001b[39;49m\u001b[43mis_text\u001b[49m\u001b[43m,\u001b[49m\n\u001b[0;32m   1887\u001b[0m \u001b[43m    \u001b[49m\u001b[43merrors\u001b[49m\u001b[38;5;241;43m=\u001b[39;49m\u001b[38;5;28;43mself\u001b[39;49m\u001b[38;5;241;43m.\u001b[39;49m\u001b[43moptions\u001b[49m\u001b[38;5;241;43m.\u001b[39;49m\u001b[43mget\u001b[49m\u001b[43m(\u001b[49m\u001b[38;5;124;43m\"\u001b[39;49m\u001b[38;5;124;43mencoding_errors\u001b[39;49m\u001b[38;5;124;43m\"\u001b[39;49m\u001b[43m,\u001b[49m\u001b[43m \u001b[49m\u001b[38;5;124;43m\"\u001b[39;49m\u001b[38;5;124;43mstrict\u001b[39;49m\u001b[38;5;124;43m\"\u001b[39;49m\u001b[43m)\u001b[49m\u001b[43m,\u001b[49m\n\u001b[0;32m   1888\u001b[0m \u001b[43m    \u001b[49m\u001b[43mstorage_options\u001b[49m\u001b[38;5;241;43m=\u001b[39;49m\u001b[38;5;28;43mself\u001b[39;49m\u001b[38;5;241;43m.\u001b[39;49m\u001b[43moptions\u001b[49m\u001b[38;5;241;43m.\u001b[39;49m\u001b[43mget\u001b[49m\u001b[43m(\u001b[49m\u001b[38;5;124;43m\"\u001b[39;49m\u001b[38;5;124;43mstorage_options\u001b[39;49m\u001b[38;5;124;43m\"\u001b[39;49m\u001b[43m,\u001b[49m\u001b[43m \u001b[49m\u001b[38;5;28;43;01mNone\u001b[39;49;00m\u001b[43m)\u001b[49m\u001b[43m,\u001b[49m\n\u001b[0;32m   1889\u001b[0m \u001b[43m\u001b[49m\u001b[43m)\u001b[49m\n\u001b[0;32m   1890\u001b[0m \u001b[38;5;28;01massert\u001b[39;00m \u001b[38;5;28mself\u001b[39m\u001b[38;5;241m.\u001b[39mhandles \u001b[38;5;129;01mis\u001b[39;00m \u001b[38;5;129;01mnot\u001b[39;00m \u001b[38;5;28;01mNone\u001b[39;00m\n\u001b[0;32m   1891\u001b[0m f \u001b[38;5;241m=\u001b[39m \u001b[38;5;28mself\u001b[39m\u001b[38;5;241m.\u001b[39mhandles\u001b[38;5;241m.\u001b[39mhandle\n",
      "File \u001b[1;32mc:\\Users\\Esayed\\AppData\\Local\\Programs\\Python\\Python310\\lib\\site-packages\\pandas\\io\\common.py:873\u001b[0m, in \u001b[0;36mget_handle\u001b[1;34m(path_or_buf, mode, encoding, compression, memory_map, is_text, errors, storage_options)\u001b[0m\n\u001b[0;32m    868\u001b[0m \u001b[38;5;28;01melif\u001b[39;00m \u001b[38;5;28misinstance\u001b[39m(handle, \u001b[38;5;28mstr\u001b[39m):\n\u001b[0;32m    869\u001b[0m     \u001b[38;5;66;03m# Check whether the filename is to be opened in binary mode.\u001b[39;00m\n\u001b[0;32m    870\u001b[0m     \u001b[38;5;66;03m# Binary mode does not support 'encoding' and 'newline'.\u001b[39;00m\n\u001b[0;32m    871\u001b[0m     \u001b[38;5;28;01mif\u001b[39;00m ioargs\u001b[38;5;241m.\u001b[39mencoding \u001b[38;5;129;01mand\u001b[39;00m \u001b[38;5;124m\"\u001b[39m\u001b[38;5;124mb\u001b[39m\u001b[38;5;124m\"\u001b[39m \u001b[38;5;129;01mnot\u001b[39;00m \u001b[38;5;129;01min\u001b[39;00m ioargs\u001b[38;5;241m.\u001b[39mmode:\n\u001b[0;32m    872\u001b[0m         \u001b[38;5;66;03m# Encoding\u001b[39;00m\n\u001b[1;32m--> 873\u001b[0m         handle \u001b[38;5;241m=\u001b[39m \u001b[38;5;28;43mopen\u001b[39;49m\u001b[43m(\u001b[49m\n\u001b[0;32m    874\u001b[0m \u001b[43m            \u001b[49m\u001b[43mhandle\u001b[49m\u001b[43m,\u001b[49m\n\u001b[0;32m    875\u001b[0m \u001b[43m            \u001b[49m\u001b[43mioargs\u001b[49m\u001b[38;5;241;43m.\u001b[39;49m\u001b[43mmode\u001b[49m\u001b[43m,\u001b[49m\n\u001b[0;32m    876\u001b[0m \u001b[43m            \u001b[49m\u001b[43mencoding\u001b[49m\u001b[38;5;241;43m=\u001b[39;49m\u001b[43mioargs\u001b[49m\u001b[38;5;241;43m.\u001b[39;49m\u001b[43mencoding\u001b[49m\u001b[43m,\u001b[49m\n\u001b[0;32m    877\u001b[0m \u001b[43m            \u001b[49m\u001b[43merrors\u001b[49m\u001b[38;5;241;43m=\u001b[39;49m\u001b[43merrors\u001b[49m\u001b[43m,\u001b[49m\n\u001b[0;32m    878\u001b[0m \u001b[43m            \u001b[49m\u001b[43mnewline\u001b[49m\u001b[38;5;241;43m=\u001b[39;49m\u001b[38;5;124;43m\"\u001b[39;49m\u001b[38;5;124;43m\"\u001b[39;49m\u001b[43m,\u001b[49m\n\u001b[0;32m    879\u001b[0m \u001b[43m        \u001b[49m\u001b[43m)\u001b[49m\n\u001b[0;32m    880\u001b[0m     \u001b[38;5;28;01melse\u001b[39;00m:\n\u001b[0;32m    881\u001b[0m         \u001b[38;5;66;03m# Binary mode\u001b[39;00m\n\u001b[0;32m    882\u001b[0m         handle \u001b[38;5;241m=\u001b[39m \u001b[38;5;28mopen\u001b[39m(handle, ioargs\u001b[38;5;241m.\u001b[39mmode)\n",
      "\u001b[1;31mFileNotFoundError\u001b[0m: [Errno 2] No such file or directory: '/kaggle/input/nlp-arabic-tweets/train.csv'"
     ]
    }
   ],
   "source": []
  },
  {
   "cell_type": "code",
   "execution_count": null,
   "id": "bd981a08",
   "metadata": {},
   "outputs": [],
   "source": []
  }
 ],
 "metadata": {
  "kernelspec": {
   "display_name": "base",
   "language": "python",
   "name": "python3"
  },
  "language_info": {
   "codemirror_mode": {
    "name": "ipython",
    "version": 3
   },
   "file_extension": ".py",
   "mimetype": "text/x-python",
   "name": "python",
   "nbconvert_exporter": "python",
   "pygments_lexer": "ipython3",
   "version": "3.12.7"
  }
 },
 "nbformat": 4,
 "nbformat_minor": 5
}
